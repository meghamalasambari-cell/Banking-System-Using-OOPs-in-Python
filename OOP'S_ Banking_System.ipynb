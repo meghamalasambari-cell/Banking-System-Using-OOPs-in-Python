{
 "cells": [
  {
   "cell_type": "code",
   "execution_count": 8,
   "id": "4c416201-fd91-4707-9635-4742beb9e2d7",
   "metadata": {},
   "outputs": [],
   "source": [
    "##BASE CLASS\n",
    "class BankAccount:\n",
    "    def __init__(self,acc_no,holder_name,balance=0):\n",
    "        self.acc_no = acc_no\n",
    "        self.holder_name = holder_name\n",
    "        self.__balance = balance\n",
    "    def deposit(self,amount):\n",
    "        if amount > 0:\n",
    "            self.__balance += amount\n",
    "            print(f\"Deposited {amount}. New Balance = {self.__balance}\")\n",
    "        else:\n",
    "            print(\"Invalid deposit amount\")\n",
    "    def withdraw(self,amount):\n",
    "        if 0 < amount <= self.__balance:\n",
    "            self.__balance -= amount\n",
    "            print(f\"Withdrawn {amount}. New Balance = {self.__balance}\")\n",
    "        else:\n",
    "            print(\"Insufficient balance or invalid amount\")\n",
    "    def get_balance(self):\n",
    "        return self.__balance\n",
    "    def get_account_number(self):\n",
    "        return self.acc_no\n"
   ]
  },
  {
   "cell_type": "code",
   "execution_count": 9,
   "id": "f654f160-79e9-4296-8694-dfbcff522220",
   "metadata": {},
   "outputs": [],
   "source": [
    "## DERIVED CLASS\n",
    "class SavingsAccount(BankAccount):\n",
    "    def __init__(self,acc_no,holder_name,balance=0,interest_rate=0.05):\n",
    "        super().__init__(acc_no, holder_name, balance)\n",
    "        self.interest_rate = interest_rate\n",
    "\n",
    "\n",
    "    def add_interest(self):\n",
    "        interest = self.get_balance() * self.interest_rate\n",
    "        self.deposit(interest)\n",
    "        print(f\"Interest {interest} added.\")\n",
    "       \n",
    "class CurrentAccount(BankAccount):\n",
    "    def __init__(self,acc_no,holder_name,balance=0,overdraft_limit=5000):\n",
    "        super().__init__(acc_no, holder_name, balance)\n",
    "        self.overdraft_limit = overdraft_limit\n",
    "\n",
    "\n",
    "    def withdraw(self,amount):\n",
    "        if amount <= self.get_balance() + self.overdraft_limit:\n",
    "            self.deposit(-amount)\n",
    "            print(f\"Withdrawn {amount} using overdraft facility.\")\n",
    "        else:\n",
    "            print(\"Overdraft limit exceeded.\")"
   ]
  },
  {
   "cell_type": "markdown",
   "id": "65063288-b532-4651-84d0-edf28bbf12eb",
   "metadata": {},
   "source": [
    "## Q1. Create a SavingsAccount object for Ravi and deposit 2000. What is his new balance?\n",
    "Hint: Use the deposit() method and then check balance using get_balance().\n"
   ]
  },
  {
   "cell_type": "code",
   "execution_count": 3,
   "id": "3f265cfa-7c5d-48c0-b751-19914752fb34",
   "metadata": {},
   "outputs": [
    {
     "name": "stdout",
     "output_type": "stream",
     "text": [
      "Deposited 2000. New Balance = 2000\n",
      "Ravi's Balance: 2000\n"
     ]
    }
   ],
   "source": [
    "ravi = SavingsAccount(101, \"Ravi\")\n",
    "ravi.deposit(2000)\n",
    "print(\"Ravi's Balance:\", ravi.get_balance())"
   ]
  },
  {
   "cell_type": "markdown",
   "id": "ff017f01-0adc-4d2a-b2bd-21e1178af1e9",
   "metadata": {},
   "source": [
    " ## Q2. Try to withdraw 10000 from Sneha’s SavingsAccount which only has 5000. What happens?\n",
    "Hint: Savings accounts do not allow overdrafts. Look at how withdraw() is implemented in BankAccount.\n"
   ]
  },
  {
   "cell_type": "code",
   "execution_count": 4,
   "id": "e6238c7a-466b-4a5e-bd44-4e0f5beb8636",
   "metadata": {},
   "outputs": [
    {
     "name": "stdout",
     "output_type": "stream",
     "text": [
      "Insufficient balance or invalid amount\n"
     ]
    }
   ],
   "source": [
    "sneha = SavingsAccount(102, \"Sneha\", 5000)\n",
    "sneha.withdraw(10000)"
   ]
  },
  {
   "cell_type": "markdown",
   "id": "d88d2875-a23a-4353-ae02-bb8fa8223a42",
   "metadata": {},
   "source": [
    "## Q3. Add interest to Arjun’s SavingsAccount with balance 10000. What will be his new balance?\n",
    "Hint: Use the add_interest() method. Interest rate is 5% of the current balance.\n"
   ]
  },
  {
   "cell_type": "code",
   "execution_count": 5,
   "id": "05c53927-a6fb-4211-9de9-b02b702bf7e3",
   "metadata": {},
   "outputs": [
    {
     "name": "stdout",
     "output_type": "stream",
     "text": [
      "Deposited 500.0. New Balance = 10500.0\n",
      "Interest 500.0 added.\n",
      "Arjun's Balance: 10500.0\n"
     ]
    }
   ],
   "source": [
    "arjun = SavingsAccount(103, \"Arjun\", 10000)\n",
    "arjun.add_interest()\n",
    "print(\"Arjun's Balance:\", arjun.get_balance())"
   ]
  },
  {
   "cell_type": "markdown",
   "id": "410dc48d-5138-4cc2-9acf-1fe8e699700f",
   "metadata": {},
   "source": [
    " ## Q4. Create a CurrentAccount for Priya with 2000 and withdraw 6000. Is it allowed? Why?\n",
    "Hint: Current accounts allow overdrafts up to -5000. Check how withdraw() in CurrentAccount is different.\n"
   ]
  },
  {
   "cell_type": "code",
   "execution_count": 6,
   "id": "5d37beff-4521-4507-a159-afac12daab2e",
   "metadata": {},
   "outputs": [
    {
     "name": "stdout",
     "output_type": "stream",
     "text": [
      "Invalid deposit amount\n",
      "Withdrawn 6000 using overdraft facility.\n",
      "Priya's Balance: 2000\n"
     ]
    }
   ],
   "source": [
    "priya = CurrentAccount(104, \"Priya\", 2000)\n",
    "priya.withdraw(6000)\n",
    "print(\"Priya's Balance:\", priya.get_balance())"
   ]
  },
  {
   "cell_type": "markdown",
   "id": "394c3eca-9781-48de-a455-aec0538f7894",
   "metadata": {},
   "source": [
    "## Q5. Try to directly access __balance of Meera’s account outside the class. What error do you get?\n",
    "Hint: Remember that variables with __ (double underscores) are private and use name mangling."
   ]
  },
  {
   "cell_type": "code",
   "execution_count": 7,
   "id": "a80c8feb-098a-4916-9e04-40d1f61f3013",
   "metadata": {},
   "outputs": [
    {
     "ename": "AttributeError",
     "evalue": "'SavingsAccount' object has no attribute '__balance'",
     "output_type": "error",
     "traceback": [
      "\u001b[1;31m---------------------------------------------------------------------------\u001b[0m",
      "\u001b[1;31mAttributeError\u001b[0m                            Traceback (most recent call last)",
      "Cell \u001b[1;32mIn[7], line 2\u001b[0m\n\u001b[0;32m      1\u001b[0m meera \u001b[38;5;241m=\u001b[39m SavingsAccount(\u001b[38;5;241m105\u001b[39m, \u001b[38;5;124m\"\u001b[39m\u001b[38;5;124mMeera\u001b[39m\u001b[38;5;124m\"\u001b[39m, \u001b[38;5;241m5000\u001b[39m)\n\u001b[1;32m----> 2\u001b[0m \u001b[38;5;28mprint\u001b[39m(meera\u001b[38;5;241m.\u001b[39m__balance)\n",
      "\u001b[1;31mAttributeError\u001b[0m: 'SavingsAccount' object has no attribute '__balance'"
     ]
    }
   ],
   "source": [
    "meera = SavingsAccount(105, \"Meera\", 5000)\n",
    "print(meera.__balance) "
   ]
  },
  {
   "cell_type": "markdown",
   "id": "99917894-67d3-4dca-bc90-2efce2b37539",
   "metadata": {},
   "source": [
    "## Q6. Which OOPS concept is shown when withdraw() behaves differently for SavingsAccount (Ravi) and CurrentAccount (Priya)?\n",
    "Hint: Same method name, different behavior → This is a classic OOPS principle.\n"
   ]
  },
  {
   "cell_type": "raw",
   "id": "6f0bfad7-3da1-47c1-9cbd-642cc617de86",
   "metadata": {},
   "source": [
    "This is Polymorphism (Method Overriding).\n",
    "SavingsAccount uses BankAccount.withdraw() (no overdraft).\n",
    "CurrentAccount overrides withdraw() to allow overdrafts.\n",
    "Same method name → different behavior."
   ]
  }
 ],
 "metadata": {
  "kernelspec": {
   "display_name": "Python [conda env:base] *",
   "language": "python",
   "name": "conda-base-py"
  },
  "language_info": {
   "codemirror_mode": {
    "name": "ipython",
    "version": 3
   },
   "file_extension": ".py",
   "mimetype": "text/x-python",
   "name": "python",
   "nbconvert_exporter": "python",
   "pygments_lexer": "ipython3",
   "version": "3.13.5"
  }
 },
 "nbformat": 4,
 "nbformat_minor": 5
}
